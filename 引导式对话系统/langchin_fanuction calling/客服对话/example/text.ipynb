{
 "cells": [
  {
   "cell_type": "code",
   "id": "initial_id",
   "metadata": {
    "collapsed": true,
    "ExecuteTime": {
     "end_time": "2025-07-09T08:59:05.030979Z",
     "start_time": "2025-07-09T08:59:04.585196Z"
    }
   },
   "source": [
    "from openai import OpenAI,AsyncOpenAI\n",
    "client = OpenAI(base_url=\"https://api.302.ai/v1/chat/completions\", api_key=\"sk-gPl43py4bj6TN3mksIN18FPbRZXdHoV6i0XOAAshKFpanIb1\")#ollama服务默认端口\n"
   ],
   "outputs": [],
   "execution_count": 1
  },
  {
   "metadata": {
    "ExecuteTime": {
     "end_time": "2025-07-08T20:57:01.002376Z",
     "start_time": "2025-07-08T20:57:00.983376Z"
    }
   },
   "cell_type": "code",
   "source": [
    "# def get_weahter(location):\n",
    "#    if location==\"Shanghai\":\n",
    "#        return \"sunny\"\n",
    "#    elif location==\"Beijing\":\n",
    "#        return \"rainy\"\n",
    "#    else:\n",
    "#        return f\"I don't know the weahter of location {location}\"\n",
    "def get_weahter(location,food):\n",
    "    if location == \"Shanghai\":\n",
    "        return f\"It's sunny in {location} with {food}\"\n",
    "    elif location == \"Beijing\":\n",
    "        return f\"It's rainy in {location} with {food}.\"\n",
    "    else:\n",
    "        return f\"I don't know the weather of {location} with {food}.\"\n",
    "\n",
    "#定义第二个工具的函数实现,该工具能够实现输入一个地名，返回一句话我已经订好票了并且在周四的时候去这个地方玩\n",
    "def get_visiting_place(visiting_place):\n",
    "    return f'I have order the ticket and we will go {visiting_place} on Thursday.'\n",
    "#定义大模型调用工具的schema(工具的定义)\n",
    "tools=[{\n",
    "        \"type\": \"function\",\n",
    "            \"function\": {\n",
    "                \"name\": \"get_weather\",\n",
    "                \"description\": \"获取当前位置的天气和当地的特色食物\",\n",
    "                \"parameters\": {\n",
    "                    \"type\": \"object\",\n",
    "                    \"properties\": {\n",
    "                        \"location\": {\n",
    "                            \"type\": \"string\",\n",
    "                            \"description\": \"中国的省份名称的拼音表示,第一个字大写如:Sichuan\",\n",
    "                            \"default\":\"未提及\"\n",
    "                        },\n",
    "                        \"food\": {\n",
    "                            \"type\": \"string\",\n",
    "                            \"description\": \"根据当地的特色食物输出\",\n",
    "                            \"default\":\"未提及\"\n",
    "                        },\n",
    "                    }\n",
    "                },\n",
    "                \"required\": [\"location\"] #必填参数\n",
    "            }\n",
    "    },\n",
    "    {\n",
    "        \"type\": \"function\",\n",
    "            \"function\": {\n",
    "            \"name\": \"get_visiting_place\",\n",
    "            \"description\": \"获取去访问的景点\",\n",
    "            \"parameters\": {\n",
    "                \"type\": \"object\",\n",
    "                \"properties\": {\n",
    "                    \"visiting_place\": {\n",
    "                        \"type\": \"string\",\n",
    "                        \"description\": \"景点名称\",\n",
    "                    },\n",
    "                }\n",
    "            },\n",
    "            \"required\": [\"visiting_place\"]  # 必填参数\n",
    "        },\n",
    "    }]"
   ],
   "id": "c8ca3e753eb6d951",
   "outputs": [],
   "execution_count": 45
  },
  {
   "metadata": {
    "ExecuteTime": {
     "end_time": "2025-07-08T20:57:03.039328Z",
     "start_time": "2025-07-08T20:57:01.636613Z"
    }
   },
   "cell_type": "code",
   "source": [
    "import json\n",
    "response = client.chat.completions.create(\n",
    "    model=\"gpt-4.1\",\n",
    "    messages=[\n",
    "        {\"role\": \"system\", \"content\": \"You are a helpful assistant\"},\n",
    "        # {\"role\": \"user\", \"content\": \"你好\"},\n",
    "        {\"role\": \"user\", \"content\": \"我想去北京玩,请问北京的天气如何？我想去故宫玩\"},\n",
    "    ],\n",
    "    stream=False, #非流式输出\n",
    "    tools=tools\n",
    ")\n",
    "check_functions =  {\"get_weather\":get_weahter,\n",
    "                    \"get_visiting_place\":get_visiting_place}\n",
    "print(response)\n",
    "if response.choices[0].finish_reason==\"tool_calls\": #通过finish_reason确认是哪一类回复\n",
    "    #遍历每一个工具中提取出来的槽位参数\n",
    "    for trigger_function in response.choices[0].message.tool_calls:\n",
    "        print('---',trigger_function)\n",
    "        function_name=trigger_function.function.name\n",
    "        function_args=json.loads(trigger_function.function.arguments) #'{\"location\": \"Beijing\"}'->{\"location\": \"Beijing\",\"food\":\"豆浆\"}\n",
    "        #工具调用函数实现结果(通过工具字典及工具名称找到对应的工具然后调用):\n",
    "        function_to_call = check_functions[function_name]\n",
    "        #传入参数得到工具调用结果\n",
    "        function_result=function_to_call(**function_args) #location=\"Beijing\"，food='豆浆'\n",
    "        print(\"调用的工具:\",function_name,\"槽位参数:\",function_args,\"工具调用结果:\",function_result)\n",
    "else:     #没有触发工具调用\n",
    "    return_message=response.choices[0].message.content\n",
    "    print(\"未触发工具调用，直接回复:\",return_message)"
   ],
   "id": "6829da026a23f64f",
   "outputs": [
    {
     "name": "stdout",
     "output_type": "stream",
     "text": [
      "ChatCompletion(id='chatcmpl-Br9excqJX8QeGJLOJI28kRFUVUoye', choices=[Choice(finish_reason='tool_calls', index=0, logprobs=None, message=ChatCompletionMessage(content=None, refusal=None, role='assistant', annotations=[], audio=None, function_call=None, tool_calls=[ChatCompletionMessageToolCall(id='call_n3c4TcCJQTEMCqLDf390KgeB', function=Function(arguments='{\"location\": \"Beijing\"}', name='get_weather'), type='function'), ChatCompletionMessageToolCall(id='call_XKXtOIFhftmM049KiazfD6VE', function=Function(arguments='{\"visiting_place\": \"故宫\"}', name='get_visiting_place'), type='function')]))], created=1752008215, model='gpt-4.1', object='chat.completion', service_tier=None, system_fingerprint='fp_07e970ab25', usage=CompletionUsage(completion_tokens=51, prompt_tokens=152, total_tokens=203, completion_tokens_details=CompletionTokensDetails(accepted_prediction_tokens=0, audio_tokens=0, reasoning_tokens=0, rejected_prediction_tokens=0), prompt_tokens_details=PromptTokensDetails(audio_tokens=0, cached_tokens=0)))\n",
      "--- ChatCompletionMessageToolCall(id='call_n3c4TcCJQTEMCqLDf390KgeB', function=Function(arguments='{\"location\": \"Beijing\"}', name='get_weather'), type='function')\n"
     ]
    },
    {
     "ename": "TypeError",
     "evalue": "get_weahter() missing 1 required positional argument: 'food'",
     "output_type": "error",
     "traceback": [
      "\u001B[1;31m---------------------------------------------------------------------------\u001B[0m",
      "\u001B[1;31mTypeError\u001B[0m                                 Traceback (most recent call last)",
      "Cell \u001B[1;32mIn[46], line 24\u001B[0m\n\u001B[0;32m     22\u001B[0m         function_to_call \u001B[38;5;241m=\u001B[39m check_functions[function_name]\n\u001B[0;32m     23\u001B[0m         \u001B[38;5;66;03m#传入参数得到工具调用结果\u001B[39;00m\n\u001B[1;32m---> 24\u001B[0m         function_result\u001B[38;5;241m=\u001B[39mfunction_to_call(\u001B[38;5;241m*\u001B[39m\u001B[38;5;241m*\u001B[39mfunction_args) \u001B[38;5;66;03m#location=\"Beijing\"，food='豆浆'\u001B[39;00m\n\u001B[0;32m     25\u001B[0m         \u001B[38;5;28mprint\u001B[39m(\u001B[38;5;124m\"\u001B[39m\u001B[38;5;124m调用的工具:\u001B[39m\u001B[38;5;124m\"\u001B[39m,function_name,\u001B[38;5;124m\"\u001B[39m\u001B[38;5;124m槽位参数:\u001B[39m\u001B[38;5;124m\"\u001B[39m,function_args,\u001B[38;5;124m\"\u001B[39m\u001B[38;5;124m工具调用结果:\u001B[39m\u001B[38;5;124m\"\u001B[39m,function_result)\n\u001B[0;32m     26\u001B[0m \u001B[38;5;28;01melse\u001B[39;00m:     \u001B[38;5;66;03m#没有触发工具调用\u001B[39;00m\n",
      "\u001B[1;31mTypeError\u001B[0m: get_weahter() missing 1 required positional argument: 'food'"
     ]
    }
   ],
   "execution_count": 46
  },
  {
   "metadata": {
    "ExecuteTime": {
     "end_time": "2025-07-08T20:57:16.759755Z",
     "start_time": "2025-07-08T20:57:15.118004Z"
    }
   },
   "cell_type": "code",
   "source": [
    "from openai import OpenAI,AsyncOpenAI #导入异步客户端库\n",
    "deepseek_async_client = AsyncOpenAI(api_key=\"sk-gPl43py4bj6TN3mksIN18FPbRZXdHoV6i0XOAAshKFpanIb1\", base_url=\"https://api.302.ai/v1/chat/completions\")\n",
    "\n",
    "async def deepseek_steam_llm(tools,messages):\n",
    "    # print(tools,messages)\n",
    "    stream =await deepseek_async_client.chat.completions.create(\n",
    "        model=\"gpt-4.1\",\n",
    "        messages=messages,\n",
    "        stream=True, #流式输出\n",
    "        tools=tools\n",
    "    )\n",
    "    async for chunk in stream:\n",
    "        # print(\"chunk:\", chunk)\n",
    "        yield chunk #注意使用yield输出,不能用return\n",
    "messages = [\n",
    "    {\"role\": \"system\", \"content\": \"You are a helpful assistant\"},\n",
    "    # {\"role\": \"user\", \"content\": \"你好\"},\n",
    "    {\"role\": \"user\", \"content\": \"我想去北京玩,请问北京的天气如何？我想去故宫玩\"},\n",
    "]      \n",
    "tool_calls_dict={}\n",
    "async for chunk in deepseek_steam_llm(tools, messages):\n",
    "    if chunk.choices: #元数据不要\n",
    "        if chunk.choices[0].delta.tool_calls:\n",
    "            for tool_call in chunk.choices[0].delta.tool_calls:\n",
    "                tool_call_id = tool_call.id\n",
    "                function_name = tool_call.function.name\n",
    "                arguments_fragment = tool_call.function.arguments\n",
    "                # print(\"arguments_fragment:\", arguments_fragment)\n",
    "                # 初始化工具调用信息 tool_call_id为None的话也不开一个新的key\n",
    "                if tool_call_id not in tool_calls_dict and tool_call_id:\n",
    "                    tool_calls_dict[tool_call_id] = {\n",
    "                        \"name\": function_name,\n",
    "                        \"arguments\": \"\"\n",
    "                    }\n",
    "                 # 拼接参数片段n\n",
    "                if tool_call_id and arguments_fragment:\n",
    "                    tool_calls_dict[tool_call_id][\"arguments\"] += arguments_fragment\n",
    "                #此时arguments_fragment为None\n",
    "                elif not arguments_fragment:\n",
    "                    continue\n",
    "                else:\n",
    "                    # 获取最后一个有key的值,\n",
    "                    last_key_id = list(tool_calls_dict.keys())[-1]\n",
    "                    tool_calls_dict[last_key_id][\"arguments\"] += arguments_fragment\n",
    "                print(\"触发functioncalling回复:\", tool_calls_dict)\n",
    "        if chunk.choices[0].delta.content:  # 检查是否有内容决定是function call还是不同回复\n",
    "               \n",
    "                print(\"触发普通问答回复:\",chunk.choices[0].delta.content)\n",
    "        if chunk.choices[0].finish_reason == \"tool_calls\":\n",
    "                print(\"工具调用结束\")\n",
    "    \n",
    "# async  def main():\n",
    "#     messages = [\n",
    "#         {\"role\": \"system\", \"content\": \"You are a helpful assistant\"},\n",
    "#         # {\"role\": \"user\", \"content\": \"你好\"},\n",
    "#         {\"role\": \"user\", \"content\": \"我想去北京玩,请问北京的天气如何？我想去故宫玩\"},\n",
    "#     ]\n",
    "#     #流式输出\n",
    "#     async for chunk in deepseek_steam_llm(tools, messages):\n",
    "#         print(chunk)\n",
    "# \n",
    "# # 然后你需要运行这个异步函数，例如：\n",
    "# import asyncio\n",
    "# asyncio.run(main())"
   ],
   "id": "80d82ac75b3ba19b",
   "outputs": [
    {
     "name": "stdout",
     "output_type": "stream",
     "text": [
      "触发functioncalling回复: {'call_7Udfcz28u9cBucH7zMCxUUPV': {'name': 'get_weather', 'arguments': '{\"lo'}}\n",
      "触发functioncalling回复: {'call_7Udfcz28u9cBucH7zMCxUUPV': {'name': 'get_weather', 'arguments': '{\"locatio'}}\n",
      "触发functioncalling回复: {'call_7Udfcz28u9cBucH7zMCxUUPV': {'name': 'get_weather', 'arguments': '{\"location\": \"B'}}\n",
      "触发functioncalling回复: {'call_7Udfcz28u9cBucH7zMCxUUPV': {'name': 'get_weather', 'arguments': '{\"location\": \"Beiji'}}\n",
      "触发functioncalling回复: {'call_7Udfcz28u9cBucH7zMCxUUPV': {'name': 'get_weather', 'arguments': '{\"location\": \"Beijing\"}'}}\n",
      "触发functioncalling回复: {'call_7Udfcz28u9cBucH7zMCxUUPV': {'name': 'get_weather', 'arguments': '{\"location\": \"Beijing\"}'}, 'call_78HqeNfkCCuSWrUDW09eFIG7': {'name': 'get_visiting_place', 'arguments': '{\"vi'}}\n",
      "触发functioncalling回复: {'call_7Udfcz28u9cBucH7zMCxUUPV': {'name': 'get_weather', 'arguments': '{\"location\": \"Beijing\"}'}, 'call_78HqeNfkCCuSWrUDW09eFIG7': {'name': 'get_visiting_place', 'arguments': '{\"visitin'}}\n",
      "触发functioncalling回复: {'call_7Udfcz28u9cBucH7zMCxUUPV': {'name': 'get_weather', 'arguments': '{\"location\": \"Beijing\"}'}, 'call_78HqeNfkCCuSWrUDW09eFIG7': {'name': 'get_visiting_place', 'arguments': '{\"visiting_plac'}}\n",
      "触发functioncalling回复: {'call_7Udfcz28u9cBucH7zMCxUUPV': {'name': 'get_weather', 'arguments': '{\"location\": \"Beijing\"}'}, 'call_78HqeNfkCCuSWrUDW09eFIG7': {'name': 'get_visiting_place', 'arguments': '{\"visiting_place\": '}}\n",
      "触发functioncalling回复: {'call_7Udfcz28u9cBucH7zMCxUUPV': {'name': 'get_weather', 'arguments': '{\"location\": \"Beijing\"}'}, 'call_78HqeNfkCCuSWrUDW09eFIG7': {'name': 'get_visiting_place', 'arguments': '{\"visiting_place\": \"故宫\"}'}}\n",
      "工具调用结束\n"
     ]
    }
   ],
   "execution_count": 48
  },
  {
   "metadata": {
    "ExecuteTime": {
     "end_time": "2025-07-09T09:23:49.772154Z",
     "start_time": "2025-07-09T09:23:37.486829Z"
    }
   },
   "cell_type": "code",
   "source": [
    "\n",
    "deepseek_client = AsyncOpenAI(api_key=\"sk-gPl43py4bj6TN3mksIN18FPbRZXdHoV6i0XOAAshKFpanIb1\", base_url=\"https://api.302.ai/v1/chat/completions\")\n",
    "messages_ = [{'role': 'system', 'content': '我是留学助手，根据以下内容推荐合适的学校以及入学时间和金额'}, {'role': 'user', 'content': '我想申请本科的哈佛大学;已知道的信息intention_school:哈佛大学academic_degree:本科current_school:浙江宁波大学gpa_point:4.0'}]\n",
    "m=[\n",
    "        {\"role\": \"system\", \"content\": \"You are a helpful assistant\"},\n",
    "        # {\"role\": \"user\", \"content\": \"你好\"},\n",
    "        {\"role\": \"user\", \"content\": \"我想去北京玩,请问北京的天气如何？我想去故宫玩\"},\n",
    "    ],\n",
    "# stream = deepseek_client.chat.completions.create(\n",
    "#     model=\"gpt-4.1\", #gpt-4.1\n",
    "#     messages=m,\n",
    "#     # max_tokens=8000,\n",
    "#     # temperature=0,\n",
    "#     stream=True,\n",
    "# )\n",
    "# for chunk in stream:\n",
    "#     print(\"chunk:\", chunk)\n",
    "response = client.chat.completions.create(\n",
    "model=\"gpt-4.1\",\n",
    "messages=messages_,\n",
    "stream=False, #非流式输出\n",
    ") \n",
    "for chunk in response:\n",
    "    print(\"chunk:\", chunk.choices)"
   ],
   "id": "30cc5b02108deaa",
   "outputs": [
    {
     "name": "stdout",
     "output_type": "stream",
     "text": [
      "chunk: ('id', 'chatcmpl-BrLJU0d7UBJG1bieCJE27vDZXhwKb')\n",
      "chunk: ('choices', [Choice(finish_reason='stop', index=0, logprobs=None, message=ChatCompletionMessage(content='根据你的信息：\\n\\n- 目标学校（intention_school）：哈佛大学（Harvard University）\\n- 申请学位（academic_degree）：本科\\n- 当前学校（current_school）：浙江宁波大学（可能为本科在读，说明你计划转学或是大一时申请重读本科）\\n- GPA：4.0（满分）\\n\\n### 一、哈佛大学本科申请建议\\n\\n#### 1. 你能否申请哈佛本科？\\n- 一般来说，哈佛大学本科只接受高中毕业生，全球本科转学生录取极为有限，且竞争极为激烈。你现在在宁波大学读本科，如果是大一，可以申请哈佛大一阶段或者转学（Transfer）。如果已经超过大一，则只可作为转学生申请。\\n- 哈佛转学通常要求：\\n  - 大一/大二在读（即累计不超过两年大学课程）\\n  - 拥有优异的大学成绩和高中记录\\n  - 优秀的托福/雅思/SAT/ACT成绩\\n  - 活跃的课外活动、社会实践、领导力经历\\n\\n#### 2. 入学时间\\n- 哈佛本科通常秋季入学（8月份）。\\n- 通常在每年3月1日截止转学申请（Transfer Application Deadline），入学时间为同年8-9月新学年。\\n- 如果是重读申请（Freshman application），截止时间为每年1月1日。\\n\\n#### 3. 申请所需金额/费用\\n- 哈佛大学2024-2025学年本科学杂费和生活费总计约为$83,538美元/年，包含：\\n  - 学费：$59,360\\n  - 住宿和食宿：$21,420\\n  - 其他费用（书本、个人开销等）：约$2,758\\n- 哈佛有非常慷慨的need-based Financial Aid，如果你家庭年收入低于$85,000，可能全额资助学费和生活费。根据家庭经济情况不同，绝大多数国际生能获得一定比例的奖助学金。\\n\\n#### 4. 其他核心要求\\n- 英语成绩：TOEFL iBT≥100或雅思≥7.5\\n- 标化成绩：需要提交SAT/ACT（哈佛2024-2025申请周期恢复标化成绩要求）\\n- 推荐信/高中及大学成绩单/课外活动及文书\\n\\n---\\n\\n### 二、申请方案建议\\n\\n| 申请方向         | 是否建议         | 具体要求                       | 申请截止时间     | 入学时间       | 预计总费用/年         |\\n|------------------|-----------------|--------------------------------|------------------|--------------|---------------------|\\n| 哈佛本科新生（Freshman） | 如果满足高中毕业≤一年建议 | 高中成绩+托福/雅思+SAT/ACT     | 1月1日           | 8-9月         | $83,538（奖助学金可申请，可减免）|\\n| 哈佛本科转学（Transfer） | 如果大学≤2年建议         | 大学成绩（优异）+高中材料等    | 3月1日           | 8-9月         | $83,538（奖助学金可申请，可减免）|\\n\\n--- \\n\\n### 三、备选方案（针对本科学业阶段）\\n\\n1. **藤校转学**：除了哈佛，还可考虑耶鲁、普林斯顿、哥大等顶尖大学转学\\n2. **综合性大学**：如芝加哥大学、MIT、杜克、斯坦福本转申请\\n3. **奖学金多的院校**：如纽约大学（NYU）、布朗大学等\\n\\n#### 推荐你尽快核查：\\n- 自己当前宁波大学学籍和学分情况\\n- 是否有标准化成绩（SAT/ACT和TOEFL/IELTS）\\n- 申请年份和入学季节\\n- 家庭经济状况和奖学金需求\\n\\n---\\n\\n### 四、具体行动建议\\n\\n1. **马上准备托福、SAT/ACT等必要成绩**\\n2. **立刻联系宁波大学/高中索要成绩单文档**\\n3. **开始哈佛本、转学的系统网申（Common App/Coalition等）**\\n4. **完善课外活动与个人文书，强调你的独特性及学术能力**\\n5. **早申请（Because竞争极大，机会有限）**\\n\\n如需更多针对你个人背景的选校和规划，欢迎补充你的详细情况（如：高中毕业时间、大学年级、标化分数等）。', refusal=None, role='assistant', annotations=[], audio=None, function_call=None, tool_calls=None))])\n",
      "chunk: ('created', 1752053012)\n",
      "chunk: ('model', 'gpt-4.1')\n",
      "chunk: ('object', 'chat.completion')\n",
      "chunk: ('service_tier', None)\n",
      "chunk: ('system_fingerprint', 'fp_07e970ab25')\n",
      "chunk: ('usage', CompletionUsage(completion_tokens=1014, prompt_tokens=66, total_tokens=1080, completion_tokens_details=CompletionTokensDetails(accepted_prediction_tokens=0, audio_tokens=0, reasoning_tokens=0, rejected_prediction_tokens=0), prompt_tokens_details=PromptTokensDetails(audio_tokens=0, cached_tokens=0)))\n"
     ]
    }
   ],
   "execution_count": 8
  },
  {
   "metadata": {
    "ExecuteTime": {
     "end_time": "2025-07-09T09:29:19.234429Z",
     "start_time": "2025-07-09T09:29:19.214667Z"
    }
   },
   "cell_type": "code",
   "source": [
    "for chunk in response:\n",
    "    a=chunk\n",
    "    if a[0]=='choices':\n",
    "        result=a[1][0].message.content\n",
    "        print(result)"
   ],
   "id": "607b30eaf9cf5909",
   "outputs": [
    {
     "name": "stdout",
     "output_type": "stream",
     "text": [
      "根据你的信息：\n",
      "\n",
      "- 目标学校（intention_school）：哈佛大学（Harvard University）\n",
      "- 申请学位（academic_degree）：本科\n",
      "- 当前学校（current_school）：浙江宁波大学（可能为本科在读，说明你计划转学或是大一时申请重读本科）\n",
      "- GPA：4.0（满分）\n",
      "\n",
      "### 一、哈佛大学本科申请建议\n",
      "\n",
      "#### 1. 你能否申请哈佛本科？\n",
      "- 一般来说，哈佛大学本科只接受高中毕业生，全球本科转学生录取极为有限，且竞争极为激烈。你现在在宁波大学读本科，如果是大一，可以申请哈佛大一阶段或者转学（Transfer）。如果已经超过大一，则只可作为转学生申请。\n",
      "- 哈佛转学通常要求：\n",
      "  - 大一/大二在读（即累计不超过两年大学课程）\n",
      "  - 拥有优异的大学成绩和高中记录\n",
      "  - 优秀的托福/雅思/SAT/ACT成绩\n",
      "  - 活跃的课外活动、社会实践、领导力经历\n",
      "\n",
      "#### 2. 入学时间\n",
      "- 哈佛本科通常秋季入学（8月份）。\n",
      "- 通常在每年3月1日截止转学申请（Transfer Application Deadline），入学时间为同年8-9月新学年。\n",
      "- 如果是重读申请（Freshman application），截止时间为每年1月1日。\n",
      "\n",
      "#### 3. 申请所需金额/费用\n",
      "- 哈佛大学2024-2025学年本科学杂费和生活费总计约为$83,538美元/年，包含：\n",
      "  - 学费：$59,360\n",
      "  - 住宿和食宿：$21,420\n",
      "  - 其他费用（书本、个人开销等）：约$2,758\n",
      "- 哈佛有非常慷慨的need-based Financial Aid，如果你家庭年收入低于$85,000，可能全额资助学费和生活费。根据家庭经济情况不同，绝大多数国际生能获得一定比例的奖助学金。\n",
      "\n",
      "#### 4. 其他核心要求\n",
      "- 英语成绩：TOEFL iBT≥100或雅思≥7.5\n",
      "- 标化成绩：需要提交SAT/ACT（哈佛2024-2025申请周期恢复标化成绩要求）\n",
      "- 推荐信/高中及大学成绩单/课外活动及文书\n",
      "\n",
      "---\n",
      "\n",
      "### 二、申请方案建议\n",
      "\n",
      "| 申请方向         | 是否建议         | 具体要求                       | 申请截止时间     | 入学时间       | 预计总费用/年         |\n",
      "|------------------|-----------------|--------------------------------|------------------|--------------|---------------------|\n",
      "| 哈佛本科新生（Freshman） | 如果满足高中毕业≤一年建议 | 高中成绩+托福/雅思+SAT/ACT     | 1月1日           | 8-9月         | $83,538（奖助学金可申请，可减免）|\n",
      "| 哈佛本科转学（Transfer） | 如果大学≤2年建议         | 大学成绩（优异）+高中材料等    | 3月1日           | 8-9月         | $83,538（奖助学金可申请，可减免）|\n",
      "\n",
      "--- \n",
      "\n",
      "### 三、备选方案（针对本科学业阶段）\n",
      "\n",
      "1. **藤校转学**：除了哈佛，还可考虑耶鲁、普林斯顿、哥大等顶尖大学转学\n",
      "2. **综合性大学**：如芝加哥大学、MIT、杜克、斯坦福本转申请\n",
      "3. **奖学金多的院校**：如纽约大学（NYU）、布朗大学等\n",
      "\n",
      "#### 推荐你尽快核查：\n",
      "- 自己当前宁波大学学籍和学分情况\n",
      "- 是否有标准化成绩（SAT/ACT和TOEFL/IELTS）\n",
      "- 申请年份和入学季节\n",
      "- 家庭经济状况和奖学金需求\n",
      "\n",
      "---\n",
      "\n",
      "### 四、具体行动建议\n",
      "\n",
      "1. **马上准备托福、SAT/ACT等必要成绩**\n",
      "2. **立刻联系宁波大学/高中索要成绩单文档**\n",
      "3. **开始哈佛本、转学的系统网申（Common App/Coalition等）**\n",
      "4. **完善课外活动与个人文书，强调你的独特性及学术能力**\n",
      "5. **早申请（Because竞争极大，机会有限）**\n",
      "\n",
      "如需更多针对你个人背景的选校和规划，欢迎补充你的详细情况（如：高中毕业时间、大学年级、标化分数等）。\n"
     ]
    }
   ],
   "execution_count": 43
  },
  {
   "metadata": {},
   "cell_type": "code",
   "outputs": [],
   "execution_count": null,
   "source": "",
   "id": "8a443828ac2c937f"
  }
 ],
 "metadata": {
  "kernelspec": {
   "display_name": "Python 3",
   "language": "python",
   "name": "python3"
  },
  "language_info": {
   "codemirror_mode": {
    "name": "ipython",
    "version": 2
   },
   "file_extension": ".py",
   "mimetype": "text/x-python",
   "name": "python",
   "nbconvert_exporter": "python",
   "pygments_lexer": "ipython2",
   "version": "2.7.6"
  }
 },
 "nbformat": 4,
 "nbformat_minor": 5
}
