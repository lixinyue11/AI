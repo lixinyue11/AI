{
 "cells": [
  {
   "cell_type": "code",
   "execution_count": null,
   "id": "initial_id",
   "metadata": {
    "collapsed": true
   },
   "outputs": [],
   "source": [
    ""
   ]
  },
  {
   "metadata": {
    "ExecuteTime": {
     "end_time": "2025-07-08T20:48:03.752214Z",
     "start_time": "2025-07-08T20:48:03.272825Z"
    }
   },
   "cell_type": "code",
   "source": [
    "from openai import OpenAI,AsyncOpenAI\n",
    "client = OpenAI(base_url=\"https://api.302.ai/v1/chat/completions\", api_key=\"sk-gPl43py4bj6TN3mksIN18FPbRZXdHoV6i0XOAAshKFpanIb1\")#ollama服务默认端口\n"
   ],
   "id": "d96358ee6adfbfb1",
   "outputs": [],
   "execution_count": 1
  },
  {
   "metadata": {},
   "cell_type": "markdown",
   "source": "",
   "id": "872b57d8ec1b52a8"
  },
  {
   "metadata": {
    "ExecuteTime": {
     "end_time": "2025-07-08T20:48:04.206182Z",
     "start_time": "2025-07-08T20:48:04.187183Z"
    }
   },
   "cell_type": "code",
   "source": [
    "@staticmethod\n",
    "def get_weahter(location,food):\n",
    "    summary=f\"\"\"位置：{location} 食物：{food}\n",
    "    \"\"\"\n",
    "    return summary\n",
    "def get_weahter(location,food):\n",
    "   if location==\"Shanghai\":\n",
    "       return \"sunny\"+\"fish\"\n",
    "   elif location==\"Beijing\":\n",
    "       return \"rainy\"+\"fish\"\n",
    "   else:\n",
    "       return f\"I don't know the weahter of location {location}{food}\"\n",
    "\n",
    "#定义第二个工具的函数实现,该工具能够实现输入一个地名，返回一句话我已经订好票了并且在周四的时候去这个地方玩\n",
    "def get_visiting_place(visiting_place):\n",
    "    return f'I have order the ticket and we will go {visiting_place} on Thursday.'\n",
    "\n",
    "#定义大模型调用工具的schema(工具的定义)\n",
    "tools=[{\n",
    "        \"type\": \"function\",\n",
    "            \"function\": {\n",
    "                \"name\": \"get_weather\",\n",
    "                \"description\": \"获取当前位置的天气\",\n",
    "                \"parameters\": {\n",
    "                    \"type\": \"object\",\n",
    "                    \"properties\": {\n",
    "                        \"location\": {\n",
    "                            \"type\": \"string\",\n",
    "                            \"description\": \"中国的省份名称的拼音表示,第一个字大写如:Sichuan\",\n",
    "                            \"default\":\"未提及\"\n",
    "                        },\n",
    "                        # \"food\": {\n",
    "                        #     \"type\": \"string\",\n",
    "                        #     \"description\": \"当前所在的城市的食物，北京：老北京豆浆\",\n",
    "                        #     \"default\":\"未提及\"\n",
    "                        # },\n",
    "                    }\n",
    "                },\n",
    "                \"required\": [\"location\",\"food\"] #必填参数\n",
    "            }\n",
    "    },\n",
    "    {\n",
    "        \"type\": \"function\",\n",
    "            \"function\": {\n",
    "            \"name\": \"get_visiting_place\",\n",
    "            \"description\": \"获取去访问的景点\",\n",
    "            \"parameters\": {\n",
    "                \"type\": \"object\",\n",
    "                \"properties\": {\n",
    "                    \"visiting_place\": {\n",
    "                        \"type\": \"string\",\n",
    "                        \"description\": \"景点名称\",\n",
    "                    },\n",
    "                }\n",
    "            },\n",
    "            \"required\": [\"visiting_place\"]  # 必填参数\n",
    "        },\n",
    "    }]"
   ],
   "id": "1ed1a705ace2ee1",
   "outputs": [],
   "execution_count": 2
  },
  {
   "metadata": {
    "ExecuteTime": {
     "end_time": "2025-07-08T20:48:06.256528Z",
     "start_time": "2025-07-08T20:48:04.775697Z"
    }
   },
   "cell_type": "code",
   "source": [
    "# check_functions =  {\"get_weather\":get_weahter,\n",
    "#                     \"get_visiting_place\":get_visiting_place}\n",
    "response1 = client.chat.completions.create(\n",
    "    model='gpt-4.1',\n",
    "    messages=[\n",
    "          {\"role\": \"system\", \"content\": \"You are a helpful assistant\"},\n",
    "        # {\"role\": \"user\", \"content\": \"我想去北京玩,天气是什么样的\"},\n",
    "           {\"role\": \"user\", \"content\": \"我想去北京玩,请问北京的天气如何？我想去故宫玩\"},\n",
    "      ],\n",
    "    stream=False , # 先将stream(流式输出)设置为False,\n",
    "    tools=tools,\n",
    "     )\n",
    "\n",
    "# response1.choices[0].delta.tool_calls"
   ],
   "id": "e9b8fcb37fc46d5b",
   "outputs": [],
   "execution_count": 3
  },
  {
   "metadata": {
    "ExecuteTime": {
     "end_time": "2025-07-08T20:48:06.271647Z",
     "start_time": "2025-07-08T20:48:06.257132Z"
    }
   },
   "cell_type": "code",
   "source": [
    "def deepseek_(messages):\n",
    "    response1 = client.chat.completions.create(\n",
    "        model='gpt-4.1',\n",
    "        messages=messages,\n",
    "        stream=False , # 先将stream(流式输出)设置为False,\n",
    "        tools=tools,\n",
    "         )"
   ],
   "id": "e3001fadb1b16f50",
   "outputs": [],
   "execution_count": 4
  },
  {
   "metadata": {
    "ExecuteTime": {
     "end_time": "2025-07-08T20:48:07.614944Z",
     "start_time": "2025-07-08T20:48:07.276150Z"
    }
   },
   "cell_type": "code",
   "source": [
    "\n",
    "check_functions =  {\"get_weather\":get_weahter,\n",
    "                    \"get_visiting_place\":get_visiting_place}\n",
    "if response1.choices[0].finish_reason==\"tool_calls\":\n",
    "    for i in response1.choices[0].message.tool_calls:\n",
    "        tool_name = i.function.name\n",
    "        tool_args = i.function.arguments\n",
    "        tool_args = eval(tool_args)\n",
    "        tool_result = check_functions[tool_name](**tool_args)\n",
    "        print(\"调用的工具:\",tool_name,\"槽位参数:\",tool_args,\"工具调用结果:\",tool_result)\n",
    "    for i in  response1.choices[0].delta.content:  # 检查是否有内容决定是function call还是不同回复\n",
    "        a=response1.choices[0].delta.content\n",
    "        print(a)\n",
    "else:     #没有触发工具调用\n",
    "    return_message=response1.choices[0].message.content\n",
    "    print(\"未触发工具调用，直接回复:\",return_message)\n",
    "        "
   ],
   "id": "148dee8d0a562916",
   "outputs": [
    {
     "ename": "TypeError",
     "evalue": "get_weahter() missing 1 required positional argument: 'food'",
     "output_type": "error",
     "traceback": [
      "\u001B[1;31m---------------------------------------------------------------------------\u001B[0m",
      "\u001B[1;31mTypeError\u001B[0m                                 Traceback (most recent call last)",
      "Cell \u001B[1;32mIn[5], line 8\u001B[0m\n\u001B[0;32m      6\u001B[0m     tool_args \u001B[38;5;241m=\u001B[39m i\u001B[38;5;241m.\u001B[39mfunction\u001B[38;5;241m.\u001B[39marguments\n\u001B[0;32m      7\u001B[0m     tool_args \u001B[38;5;241m=\u001B[39m \u001B[38;5;28meval\u001B[39m(tool_args)\n\u001B[1;32m----> 8\u001B[0m     tool_result \u001B[38;5;241m=\u001B[39m check_functions[tool_name](\u001B[38;5;241m*\u001B[39m\u001B[38;5;241m*\u001B[39mtool_args)\n\u001B[0;32m      9\u001B[0m     \u001B[38;5;28mprint\u001B[39m(\u001B[38;5;124m\"\u001B[39m\u001B[38;5;124m调用的工具:\u001B[39m\u001B[38;5;124m\"\u001B[39m,tool_name,\u001B[38;5;124m\"\u001B[39m\u001B[38;5;124m槽位参数:\u001B[39m\u001B[38;5;124m\"\u001B[39m,tool_args,\u001B[38;5;124m\"\u001B[39m\u001B[38;5;124m工具调用结果:\u001B[39m\u001B[38;5;124m\"\u001B[39m,tool_result)\n\u001B[0;32m     10\u001B[0m \u001B[38;5;28;01mfor\u001B[39;00m i \u001B[38;5;129;01min\u001B[39;00m  response1\u001B[38;5;241m.\u001B[39mchoices[\u001B[38;5;241m0\u001B[39m]\u001B[38;5;241m.\u001B[39mdelta\u001B[38;5;241m.\u001B[39mcontent:  \u001B[38;5;66;03m# 检查是否有内容决定是function call还是不同回复\u001B[39;00m\n",
      "\u001B[1;31mTypeError\u001B[0m: get_weahter() missing 1 required positional argument: 'food'"
     ]
    }
   ],
   "execution_count": 5
  },
  {
   "metadata": {
    "ExecuteTime": {
     "end_time": "2025-07-08T20:52:43.395178Z",
     "start_time": "2025-07-08T20:52:43.371124Z"
    }
   },
   "cell_type": "code",
   "source": [
    "from openai import OpenAI,AsyncOpenAI #导入异步客户端库\n",
    "check_functions =  {\"get_weather\":get_weahter,\n",
    "                    \"get_visiting_place\":get_visiting_place}\n",
    "deepseek_async_client = AsyncOpenAI(base_url=\"https://api.302.ai/v1/chat/completions\", api_key=\"sk-gPl43py4bj6TN3mksIN18FPbRZXdHoV6i0XOAAshKFpanIb1\")\n",
    "async def deepseek_steam_llm(tools,messages):\n",
    "    \n",
    "    stream =await deepseek_async_client.chat.completions.create(\n",
    "        model=\"gpt-4.1\",\n",
    "        messages=messages,\n",
    "        stream=True, #流式输出\n",
    "        tools=tools\n",
    "    )\n",
    "    async for chunk in stream:\n",
    "        yield chunk #注意使用yield输出,不能用return"
   ],
   "id": "f97a7b8023167264",
   "outputs": [],
   "execution_count": 16
  },
  {
   "metadata": {
    "ExecuteTime": {
     "end_time": "2025-07-08T20:55:45.520457Z",
     "start_time": "2025-07-08T20:55:45.507169Z"
    }
   },
   "cell_type": "code",
   "source": [
    "import json\n",
    "@staticmethod\n",
    "def get_weahter(location,food):\n",
    "    summary=f\"\"\"位置：{location} 食物：{food}\n",
    "    \"\"\"\n",
    "    return summary\n",
    "# def get_weahter(location,food):\n",
    "#    if location==\"Shanghai\":\n",
    "#        return \"sunny\"+\"fish\"\n",
    "#    elif location==\"Beijing\":\n",
    "#        return \"rainy\"+\"fish\"\n",
    "#    else:\n",
    "#        return f\"I don't know the weahter of location {location}{food}\"\n",
    "\n",
    "#定义第二个工具的函数实现,该工具能够实现输入一个地名，返回一句话我已经订好票了并且在周四的时候去这个地方玩\n",
    "def get_visiting_place(visiting_place):\n",
    "    return f'I have order the ticket and we will go {visiting_place} on Thursday.'\n",
    "\n",
    "#定义大模型调用工具的schema(工具的定义)\n",
    "tools=[{\n",
    "        \"type\": \"function\",\n",
    "            \"function\": {\n",
    "                \"name\": \"get_weather\",\n",
    "                \"description\": \"获取当前位置的天气和当地特色美食\",\n",
    "                \"properties\": {\n",
    "                        \"location\": {\n",
    "                            \"type\": \"string\",\n",
    "                            \"description\": \"中国的省份名称的拼音表示,第一个字大写如:Sichuan\",\n",
    "                        },\n",
    "                        \"food\": {\n",
    "                            \"type\": \"string\",\n",
    "                            \"description\": \"获取location的特色美食比如北京是老北京豆浆\",\n",
    "                            \n",
    "                        },\n",
    "                    },\n",
    "                \"required\": [\"location\",\"food\"] #必填参数\n",
    "            }\n",
    "    },\n",
    "    {\n",
    "        \"type\": \"function\",\n",
    "            \"function\": {\n",
    "            \"name\": \"get_visiting_place\",\n",
    "            \"description\": \"获取去访问的景点\",\n",
    "            \"parameters\": {\n",
    "                \"type\": \"object\",\n",
    "                \"properties\": {\n",
    "                    \"visiting_place\": {\n",
    "                        \"type\": \"string\",\n",
    "                        \"description\": \"景点名称\",\n",
    "                    },\n",
    "                }\n",
    "            },\n",
    "            \"required\": [\"visiting_place\"]  # 必填参数\n",
    "        },\n",
    "    }]\n",
    "tool_calls_dict={} #记录单个工具调用的结果\n",
    "complete_tool_calls=[] #记录所有工具调用的结果"
   ],
   "id": "fafb6307113da9cd",
   "outputs": [],
   "execution_count": 24
  },
  {
   "metadata": {
    "ExecuteTime": {
     "end_time": "2025-07-08T20:56:01.856875Z",
     "start_time": "2025-07-08T20:56:00.586978Z"
    }
   },
   "cell_type": "code",
   "source": [
    "messages = [\n",
    "        {\"role\": \"system\", \"content\": \"You are a helpful assistant\"},\n",
    "        # {\"role\": \"user\", \"content\": \"你好\"},\n",
    "        {\"role\": \"user\", \"content\": \"我想去北京玩,请问北京的天气如何？有什么好吃的推荐\"},\n",
    "    ]\n",
    "async for chunk in deepseek_steam_llm(tools, messages):\n",
    "    # print(\"origin_chunk:\",chunk)\n",
    "    if chunk.choices:  # 元数据不要\n",
    "        if chunk.choices[0].delta.tool_calls:\n",
    "            for tool_call in chunk.choices[0].delta.tool_calls:\n",
    "                \n",
    "                tool_call_id = tool_call.id\n",
    "                function_name = tool_call.function.name\n",
    "                arguments_fragment = tool_call.function.arguments\n",
    "                # print(\"arguments_fragment:\", arguments_fragment)\n",
    "                # 初始化工具调用信息 tool_call_id为None的话也不开一个新的key\n",
    "                if tool_call_id not in tool_calls_dict and tool_call_id:\n",
    "                    tool_calls_dict[tool_call_id] = {\n",
    "                        \"name\": function_name,\n",
    "                        \"arguments\": \"\"\n",
    "                    }\n",
    "                # print(\"触发functioncalling回复:\", chunk.choices[0].delta.tool_calls)\n",
    "                if tool_call_id and arguments_fragment:\n",
    "                    tool_calls_dict[tool_call_id][\"arguments\"] += arguments_fragment\n",
    "                #此时arguments_fragment为None\n",
    "                elif not arguments_fragment:\n",
    "                    continue\n",
    "                else:\n",
    "                    # 获取最后一个有key的值,\n",
    "                    last_key_id = list(tool_calls_dict.keys())[-1]\n",
    "                    tool_calls_dict[last_key_id][\"arguments\"] += arguments_fragment\n",
    "        \n",
    "        print(tool_calls_dict)\n",
    "        if chunk.choices[0].delta.content:  # 检查是否有内容决定是function call还是不同回复\n",
    "           # accumulate_message += chunk.choices[0].delta.content\n",
    "            print(\"触发普通问答回复:\", chunk.choices[0].delta.content)\n",
    "            # print('///',chunk.choices[0].delta.content)\n",
    "\n",
    "        if chunk.choices[0].finish_reason == \"tool_calls\":\n",
    "            print(\"工具调用结束\")\n",
    "            for tool_call_id, tool_call_info in tool_calls_dict.items():\n",
    "                print(tool_call_id, tool_call_info)"
   ],
   "id": "d729d754254cca40",
   "outputs": [
    {
     "name": "stdout",
     "output_type": "stream",
     "text": [
      "{'call_AfHEIXajrvBvU0H3x865Pefj': {'name': 'get_weather', 'arguments': '{}'}, 'call_sWp4ie35amsFKvReXAvQ1Mzg': {'name': 'get_weather', 'arguments': ''}}\n",
      "{'call_AfHEIXajrvBvU0H3x865Pefj': {'name': 'get_weather', 'arguments': '{}'}, 'call_sWp4ie35amsFKvReXAvQ1Mzg': {'name': 'get_weather', 'arguments': '{}'}}\n",
      "{'call_AfHEIXajrvBvU0H3x865Pefj': {'name': 'get_weather', 'arguments': '{}'}, 'call_sWp4ie35amsFKvReXAvQ1Mzg': {'name': 'get_weather', 'arguments': '{}'}}\n",
      "工具调用结束\n",
      "call_AfHEIXajrvBvU0H3x865Pefj {'name': 'get_weather', 'arguments': '{}'}\n",
      "call_sWp4ie35amsFKvReXAvQ1Mzg {'name': 'get_weather', 'arguments': '{}'}\n"
     ]
    }
   ],
   "execution_count": 26
  },
  {
   "metadata": {},
   "cell_type": "code",
   "outputs": [],
   "execution_count": null,
   "source": "",
   "id": "2fcc3b2c4cf1381a"
  }
 ],
 "metadata": {
  "kernelspec": {
   "display_name": "Python 3",
   "language": "python",
   "name": "python3"
  },
  "language_info": {
   "codemirror_mode": {
    "name": "ipython",
    "version": 2
   },
   "file_extension": ".py",
   "mimetype": "text/x-python",
   "name": "python",
   "nbconvert_exporter": "python",
   "pygments_lexer": "ipython2",
   "version": "2.7.6"
  }
 },
 "nbformat": 4,
 "nbformat_minor": 5
}
